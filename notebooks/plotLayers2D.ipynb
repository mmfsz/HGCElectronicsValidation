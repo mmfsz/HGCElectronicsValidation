{
 "cells": [
  {
   "cell_type": "code",
   "execution_count": 169,
   "id": "1f068491",
   "metadata": {},
   "outputs": [],
   "source": [
    "import os\n",
    "import glob\n",
    "import uproot\n",
    "import pandas as pd\n",
    "import numpy as np\n",
    "import matplotlib as mpl\n",
    "from matplotlib import pyplot as plt\n",
    "from matplotlib import gridspec\n",
    "from scipy.optimize import curve_fit\n",
    "import mplhep as hep\n",
    "plt.style.use(hep.style.CMS)\n",
    "#import yahist\n",
    "from tqdm import tqdm\n",
    "pd.set_option('display.max_columns', None)\n",
    "from tqdm import tqdm\n",
    "pd.set_option('display.max_rows', 500)\n",
    "\n",
    "from warnings import simplefilter\n",
    "simplefilter(action=\"ignore\", category=pd.errors.PerformanceWarning)"
   ]
  },
  {
   "cell_type": "code",
   "execution_count": 170,
   "id": "df0e7906",
   "metadata": {},
   "outputs": [],
   "source": [
    "filename = \"startup_numEvent1000\" #\"aged\" #\"startup\" #\"aged\"\n",
    "simType = \"@ Startup\" #\"Startup\" #\"EOL\" \n",
    "\n",
    "inputDir = '/afs/cern.ch/work/m/mmazza/private/projects/HGCElectronicsValidation/CMSSW_14_1_0_pre4/src/UserCode/HGCElectronicsValidation/'\n",
    "plot_dir = \"plots/\"+filename+\"/layers2D\"\n",
    "if not os.path.exists(plot_dir):\n",
    "    os.makedirs(plot_dir)    \n",
    "    "
   ]
  },
  {
   "cell_type": "code",
   "execution_count": 171,
   "id": "daeb1d53",
   "metadata": {},
   "outputs": [],
   "source": [
    "histo_base_names = [\"hXYhits_HECback\", \"hGlobXYhits_HECback\"]\n",
    "layers = range(7, 23)\n"
   ]
  },
  {
   "cell_type": "code",
   "execution_count": 172,
   "id": "1b0c6e36",
   "metadata": {},
   "outputs": [],
   "source": [
    "file = ROOT.TFile.Open(inputDir+filename+'.root', \"READ\")\n",
    "if not file or file.IsZombie():\n",
    "    print(f\"Error opening file: {file_name}\")"
   ]
  },
  {
   "cell_type": "code",
   "execution_count": 173,
   "id": "ae03e785",
   "metadata": {},
   "outputs": [
    {
     "data": {
      "text/plain": [
       "0"
      ]
     },
     "execution_count": 173,
     "metadata": {},
     "output_type": "execute_result"
    }
   ],
   "source": [
    "from ROOT import gROOT\n",
    "\n",
    "# Set TDR styles\n",
    "gROOT.LoadMacro(\"tdrstyle.C\")\n",
    "gROOT.ProcessLine(\"setTDRStyle();\")"
   ]
  },
  {
   "cell_type": "code",
   "execution_count": 174,
   "id": "f16d5cdf",
   "metadata": {},
   "outputs": [],
   "source": [
    "\n",
    "#import sys\n",
    "#sys.path.insert(0,'/afs/cern.ch/user/m/mmazza/private/rootUtils_new')\n",
    "import CMS_lumi, tdrstyle #check if it works from private/rootutils\n",
    "tdrstyle.setTDRStyle()"
   ]
  },
  {
   "cell_type": "code",
   "execution_count": null,
   "id": "2a9e2502",
   "metadata": {},
   "outputs": [],
   "source": []
  },
  {
   "cell_type": "code",
   "execution_count": 177,
   "id": "4335f16d",
   "metadata": {},
   "outputs": [
    {
     "name": "stdout",
     "output_type": "stream",
     "text": [
      "Error retrieving histograms: hGlobXYhits_HECback_detIdMissingFromMap_L_Sipm2mm_L7 or hGlobXYhits_HECback_detIdMissingFromMap_L_Sipm4mm_L7\n",
      "Error retrieving histograms: hGlobXYhits_HECback_detIdMissingFromMap_L_Sipm2mm_L8 or hGlobXYhits_HECback_detIdMissingFromMap_L_Sipm4mm_L8\n",
      "Error retrieving histograms: hGlobXYhits_HECback_detIdMissingFromMap_L_Sipm2mm_L9 or hGlobXYhits_HECback_detIdMissingFromMap_L_Sipm4mm_L9\n",
      "Error retrieving histograms: hGlobXYhits_HECback_detIdMissingFromMap_L_Sipm2mm_L10 or hGlobXYhits_HECback_detIdMissingFromMap_L_Sipm4mm_L10\n",
      "Error retrieving histograms: hGlobXYhits_HECback_detIdMissingFromMap_L_Sipm2mm_L11 or hGlobXYhits_HECback_detIdMissingFromMap_L_Sipm4mm_L11\n",
      "Error retrieving histograms: hGlobXYhits_HECback_detIdMissingFromMap_L_Sipm2mm_L12 or hGlobXYhits_HECback_detIdMissingFromMap_L_Sipm4mm_L12\n",
      "Error retrieving histograms: hGlobXYhits_HECback_detIdMissingFromMap_L_Sipm2mm_L13 or hGlobXYhits_HECback_detIdMissingFromMap_L_Sipm4mm_L13\n",
      "Error retrieving histograms: hGlobXYhits_HECback_detIdMissingFromMap_L_Sipm2mm_L14 or hGlobXYhits_HECback_detIdMissingFromMap_L_Sipm4mm_L14\n",
      "Error retrieving histograms: hGlobXYhits_HECback_detIdMissingFromMap_L_Sipm2mm_L15 or hGlobXYhits_HECback_detIdMissingFromMap_L_Sipm4mm_L15\n",
      "Error retrieving histograms: hGlobXYhits_HECback_detIdMissingFromMap_L_Sipm2mm_L16 or hGlobXYhits_HECback_detIdMissingFromMap_L_Sipm4mm_L16\n",
      "Error retrieving histograms: hGlobXYhits_HECback_detIdMissingFromMap_L_Sipm2mm_L17 or hGlobXYhits_HECback_detIdMissingFromMap_L_Sipm4mm_L17\n",
      "Error retrieving histograms: hGlobXYhits_HECback_detIdMissingFromMap_L_Sipm2mm_L18 or hGlobXYhits_HECback_detIdMissingFromMap_L_Sipm4mm_L18\n",
      "Error retrieving histograms: hGlobXYhits_HECback_detIdMissingFromMap_L_Sipm2mm_L19 or hGlobXYhits_HECback_detIdMissingFromMap_L_Sipm4mm_L19\n",
      "Error retrieving histograms: hGlobXYhits_HECback_detIdMissingFromMap_L_Sipm2mm_L20 or hGlobXYhits_HECback_detIdMissingFromMap_L_Sipm4mm_L20\n",
      "Error retrieving histograms: hGlobXYhits_HECback_detIdMissingFromMap_L_Sipm2mm_L21 or hGlobXYhits_HECback_detIdMissingFromMap_L_Sipm4mm_L21\n",
      "Error retrieving histograms: hGlobXYhits_HECback_detIdMissingFromMap_L_Sipm2mm_L22 or hGlobXYhits_HECback_detIdMissingFromMap_L_Sipm4mm_L22\n",
      "Error retrieving histograms: hXYhits_HECback_detIdMissingFromMap_L_Sipm2mm_L7 or hXYhits_HECback_detIdMissingFromMap_L_Sipm4mm_L7\n",
      "Error retrieving histograms: hXYhits_HECback_detIdMissingFromMap_L_Sipm2mm_L8 or hXYhits_HECback_detIdMissingFromMap_L_Sipm4mm_L8\n",
      "Error retrieving histograms: hXYhits_HECback_detIdMissingFromMap_L_Sipm2mm_L9 or hXYhits_HECback_detIdMissingFromMap_L_Sipm4mm_L9\n",
      "Error retrieving histograms: hXYhits_HECback_detIdMissingFromMap_L_Sipm2mm_L10 or hXYhits_HECback_detIdMissingFromMap_L_Sipm4mm_L10\n",
      "Error retrieving histograms: hXYhits_HECback_detIdMissingFromMap_L_Sipm2mm_L11 or hXYhits_HECback_detIdMissingFromMap_L_Sipm4mm_L11\n",
      "Error retrieving histograms: hXYhits_HECback_detIdMissingFromMap_L_Sipm2mm_L12 or hXYhits_HECback_detIdMissingFromMap_L_Sipm4mm_L12\n",
      "Error retrieving histograms: hXYhits_HECback_detIdMissingFromMap_L_Sipm2mm_L13 or hXYhits_HECback_detIdMissingFromMap_L_Sipm4mm_L13\n",
      "Error retrieving histograms: hXYhits_HECback_detIdMissingFromMap_L_Sipm2mm_L14 or hXYhits_HECback_detIdMissingFromMap_L_Sipm4mm_L14\n",
      "Error retrieving histograms: hXYhits_HECback_detIdMissingFromMap_L_Sipm2mm_L15 or hXYhits_HECback_detIdMissingFromMap_L_Sipm4mm_L15\n",
      "Error retrieving histograms: hXYhits_HECback_detIdMissingFromMap_L_Sipm2mm_L16 or hXYhits_HECback_detIdMissingFromMap_L_Sipm4mm_L16\n",
      "Error retrieving histograms: hXYhits_HECback_detIdMissingFromMap_L_Sipm2mm_L17 or hXYhits_HECback_detIdMissingFromMap_L_Sipm4mm_L17\n",
      "Error retrieving histograms: hXYhits_HECback_detIdMissingFromMap_L_Sipm2mm_L18 or hXYhits_HECback_detIdMissingFromMap_L_Sipm4mm_L18\n",
      "Error retrieving histograms: hXYhits_HECback_detIdMissingFromMap_L_Sipm2mm_L19 or hXYhits_HECback_detIdMissingFromMap_L_Sipm4mm_L19\n",
      "Error retrieving histograms: hXYhits_HECback_detIdMissingFromMap_L_Sipm2mm_L20 or hXYhits_HECback_detIdMissingFromMap_L_Sipm4mm_L20\n",
      "Error retrieving histograms: hXYhits_HECback_detIdMissingFromMap_L_Sipm2mm_L21 or hXYhits_HECback_detIdMissingFromMap_L_Sipm4mm_L21\n",
      "Error retrieving histograms: hXYhits_HECback_detIdMissingFromMap_L_Sipm2mm_L22 or hXYhits_HECback_detIdMissingFromMap_L_Sipm4mm_L22\n"
     ]
    }
   ],
   "source": [
    "for histo_base_name in histo_base_names:\n",
    "    \n",
    "    histo_base_name1 = histo_base_name+\"_Sipm2mm_L\"\n",
    "    histo_base_name2 = histo_base_name+\"_Sipm4mm_L\"\n",
    "    legend1 = \"SiPM 4mm\"\n",
    "    legend2 = \"SiPM 2mm\"\n",
    "    \n",
    "    for layer in layers:\n",
    "        \n",
    "        histo_name1 = f\"{histo_base_name1}{layer}\"\n",
    "        histo_name2 = f\"{histo_base_name2}{layer}\"\n",
    "\n",
    "        # Retrieve the histograms\n",
    "        histo1 = file.Get(\"ana/\"+histo_name1)\n",
    "        histo2 = file.Get(\"ana/\"+histo_name2)\n",
    "\n",
    "        if not histo1 or not histo2:\n",
    "            print(f\"Error retrieving histograms: {histo_name1} or {histo_name2}\")\n",
    "            continue\n",
    "\n",
    "        # Create a canvas for this layer\n",
    "        canvas = ROOT.TCanvas(f\"c{layer}\", f\"Layer {layer}\", 500, 500)\n",
    "        \n",
    "        # Draw the histograms\n",
    "        histo1.SetLineColor(ROOT.kMagenta)\n",
    "        histo1.SetMarkerColor(ROOT.kMagenta)\n",
    "        histo2.SetMarkerColor(ROOT.kBlue)\n",
    "        histo1.SetTitle(f\"Layer {layer}\")\n",
    "        if \"Glob\" in histo_base_name:\n",
    "            histo1.GetXaxis().SetTitle(\"Global x\")\n",
    "            histo1.GetYaxis().SetTitle(\"Global y\")\n",
    "        else:\n",
    "            histo1.GetXaxis().SetTitle(\"iradius\")\n",
    "            histo1.GetYaxis().SetTitle(\"iradius\")\n",
    "        histo1.Draw(\"HIST\")\n",
    "        histo2.Draw(\"HIST SAME\")\n",
    "        \n",
    "        # Add a title on top of the frame\n",
    "        latex = ROOT.TLatex()\n",
    "        latex.SetNDC()\n",
    "        latex.SetTextSize(0.035)    \n",
    "        latex.SetTextAlign(13) \n",
    "        latex.DrawLatex(0.2, 0.9, f\"Layer {layer}\")\n",
    "\n",
    "        # Add a legend\n",
    "        legend = ROOT.TLegend(0.6, 0.8, 0.95, 0.95)\n",
    "        legend.AddEntry(histo1, legend1, \"l\")\n",
    "        legend.AddEntry(histo2, legend2, \"l\")\n",
    "        legend.SetBorderSize(0);\n",
    "        legend.SetFillStyle(0);\n",
    "        legend.SetTextFont(42);\n",
    "        #legend.SetTextSize(300);\n",
    "        legend.Draw()\n",
    "\n",
    "        canvas.Draw()\n",
    "        # Save the canvas as a PDF file\n",
    "        output_file = f\"{plot_dir}/{histo_base_name}_L{layer}.pdf\"\n",
    "        canvas.SaveAs(output_file)\n"
   ]
  },
  {
   "cell_type": "code",
   "execution_count": 176,
   "id": "4b8b8f38",
   "metadata": {},
   "outputs": [
    {
     "name": "stderr",
     "output_type": "stream",
     "text": [
      "Info in <TCanvas::Print>: pdf file plots/startup_numEvent1000/layers2D/hGlobXYhits_HECback_detIdMissingFromMap_L_L7.pdf has been created\n",
      "Info in <TCanvas::Print>: pdf file plots/startup_numEvent1000/layers2D/hGlobXYhits_HECback_detIdMissingFromMap_L_L8.pdf has been created\n",
      "Info in <TCanvas::Print>: pdf file plots/startup_numEvent1000/layers2D/hGlobXYhits_HECback_detIdMissingFromMap_L_L9.pdf has been created\n",
      "Info in <TCanvas::Print>: pdf file plots/startup_numEvent1000/layers2D/hGlobXYhits_HECback_detIdMissingFromMap_L_L10.pdf has been created\n",
      "Info in <TCanvas::Print>: pdf file plots/startup_numEvent1000/layers2D/hGlobXYhits_HECback_detIdMissingFromMap_L_L11.pdf has been created\n",
      "Info in <TCanvas::Print>: pdf file plots/startup_numEvent1000/layers2D/hGlobXYhits_HECback_detIdMissingFromMap_L_L12.pdf has been created\n",
      "Info in <TCanvas::Print>: pdf file plots/startup_numEvent1000/layers2D/hGlobXYhits_HECback_detIdMissingFromMap_L_L13.pdf has been created\n",
      "Info in <TCanvas::Print>: pdf file plots/startup_numEvent1000/layers2D/hGlobXYhits_HECback_detIdMissingFromMap_L_L14.pdf has been created\n",
      "Info in <TCanvas::Print>: pdf file plots/startup_numEvent1000/layers2D/hGlobXYhits_HECback_detIdMissingFromMap_L_L15.pdf has been created\n",
      "Info in <TCanvas::Print>: pdf file plots/startup_numEvent1000/layers2D/hGlobXYhits_HECback_detIdMissingFromMap_L_L16.pdf has been created\n",
      "Info in <TCanvas::Print>: pdf file plots/startup_numEvent1000/layers2D/hGlobXYhits_HECback_detIdMissingFromMap_L_L17.pdf has been created\n",
      "Info in <TCanvas::Print>: pdf file plots/startup_numEvent1000/layers2D/hGlobXYhits_HECback_detIdMissingFromMap_L_L18.pdf has been created\n",
      "Info in <TCanvas::Print>: pdf file plots/startup_numEvent1000/layers2D/hGlobXYhits_HECback_detIdMissingFromMap_L_L19.pdf has been created\n",
      "Info in <TCanvas::Print>: pdf file plots/startup_numEvent1000/layers2D/hGlobXYhits_HECback_detIdMissingFromMap_L_L20.pdf has been created\n",
      "Info in <TCanvas::Print>: pdf file plots/startup_numEvent1000/layers2D/hGlobXYhits_HECback_detIdMissingFromMap_L_L21.pdf has been created\n",
      "Info in <TCanvas::Print>: pdf file plots/startup_numEvent1000/layers2D/hGlobXYhits_HECback_detIdMissingFromMap_L_L22.pdf has been created\n",
      "Info in <TCanvas::Print>: pdf file plots/startup_numEvent1000/layers2D/hXYhits_HECback_detIdMissingFromMap_L_L7.pdf has been created\n",
      "Info in <TCanvas::Print>: pdf file plots/startup_numEvent1000/layers2D/hXYhits_HECback_detIdMissingFromMap_L_L8.pdf has been created\n",
      "Info in <TCanvas::Print>: pdf file plots/startup_numEvent1000/layers2D/hXYhits_HECback_detIdMissingFromMap_L_L9.pdf has been created\n",
      "Info in <TCanvas::Print>: pdf file plots/startup_numEvent1000/layers2D/hXYhits_HECback_detIdMissingFromMap_L_L10.pdf has been created\n",
      "Info in <TCanvas::Print>: pdf file plots/startup_numEvent1000/layers2D/hXYhits_HECback_detIdMissingFromMap_L_L11.pdf has been created\n",
      "Info in <TCanvas::Print>: pdf file plots/startup_numEvent1000/layers2D/hXYhits_HECback_detIdMissingFromMap_L_L12.pdf has been created\n",
      "Info in <TCanvas::Print>: pdf file plots/startup_numEvent1000/layers2D/hXYhits_HECback_detIdMissingFromMap_L_L13.pdf has been created\n",
      "Info in <TCanvas::Print>: pdf file plots/startup_numEvent1000/layers2D/hXYhits_HECback_detIdMissingFromMap_L_L14.pdf has been created\n",
      "Info in <TCanvas::Print>: pdf file plots/startup_numEvent1000/layers2D/hXYhits_HECback_detIdMissingFromMap_L_L15.pdf has been created\n",
      "Info in <TCanvas::Print>: pdf file plots/startup_numEvent1000/layers2D/hXYhits_HECback_detIdMissingFromMap_L_L16.pdf has been created\n",
      "Info in <TCanvas::Print>: pdf file plots/startup_numEvent1000/layers2D/hXYhits_HECback_detIdMissingFromMap_L_L17.pdf has been created\n",
      "Info in <TCanvas::Print>: pdf file plots/startup_numEvent1000/layers2D/hXYhits_HECback_detIdMissingFromMap_L_L18.pdf has been created\n",
      "Info in <TCanvas::Print>: pdf file plots/startup_numEvent1000/layers2D/hXYhits_HECback_detIdMissingFromMap_L_L19.pdf has been created\n",
      "Info in <TCanvas::Print>: pdf file plots/startup_numEvent1000/layers2D/hXYhits_HECback_detIdMissingFromMap_L_L20.pdf has been created\n",
      "Info in <TCanvas::Print>: pdf file plots/startup_numEvent1000/layers2D/hXYhits_HECback_detIdMissingFromMap_L_L21.pdf has been created\n",
      "Info in <TCanvas::Print>: pdf file plots/startup_numEvent1000/layers2D/hXYhits_HECback_detIdMissingFromMap_L_L22.pdf has been created\n"
     ]
    },
    {
     "data": {
      "image/png": "[encoded data removed]",
      "text/plain": [
       "<IPython.core.display.Image object>"
      ]
     },
     "metadata": {},
     "output_type": "display_data"
    }
   ],
   "source": [
    "histo_base_names = [\"hGlobXYhits_HECback_detIdMissingFromMap_L\", \"hXYhits_HECback_detIdMissingFromMap_L\"]\n",
    "for histo_base_name in histo_base_names:\n",
    "    \n",
    "    for layer in layers:\n",
    "        \n",
    "        histo_name1 = f\"{histo_base_name}{layer}\"\n",
    "\n",
    "        # Retrieve the histograms\n",
    "        histo1 = file.Get(\"ana/\"+histo_name1)\n",
    "\n",
    "        if not histo1:\n",
    "            print(f\"Error retrieving histograms: {histo_name1}\")\n",
    "            continue\n",
    "\n",
    "        # Create a canvas for this layer\n",
    "        canvas = ROOT.TCanvas(f\"c{layer}\", f\"Layer {layer}\", 500, 500)\n",
    "        \n",
    "        # Draw the histograms\n",
    "        histo1.SetLineColor(ROOT.kRed)\n",
    "        histo1.SetMarkerColor(ROOT.kRed)\n",
    "        histo1.SetTitle(f\"Layer {layer}\")\n",
    "        if \"Glob\" in histo_base_name:\n",
    "            histo1.GetXaxis().SetTitle(\"Global x\")\n",
    "            histo1.GetYaxis().SetTitle(\"Global y\")\n",
    "        else:\n",
    "            histo1.GetXaxis().SetTitle(\"iradius\")\n",
    "            histo1.GetYaxis().SetTitle(\"iradius\")\n",
    "            \n",
    "        histo1.Draw(\"HIST\")\n",
    "\n",
    "        # Add a legend\n",
    "#         legend = ROOT.TLegend(0.6, 0.8, 0.95, 0.95)\n",
    "#         legend.AddEntry(histo1, histo_name1, \"l\")\n",
    "#         legend.AddEntry(histo2, histo_name2, \"l\")\n",
    "#         legend.SetBorderSize(0);\n",
    "#         legend.SetFillStyle(0);\n",
    "#         legend.SetTextFont(42);\n",
    "#         #legend.SetTextSize(300);\n",
    "#         legend.Draw()\n",
    "\n",
    "       # Add a title on top of the frame\n",
    "        latex = ROOT.TLatex()\n",
    "        latex.SetNDC()\n",
    "        latex.SetTextSize(0.03)    \n",
    "        latex.SetTextAlign(13) \n",
    "        latex.DrawLatex(0.2, 0.9, f\"DetIds missing from geom-electronics map\")\n",
    "        latex.DrawLatex(0.2, 0.85, f\"Layer {layer}\")\n",
    "\n",
    "        canvas.Draw()\n",
    "        # Save the canvas as a PDF file\n",
    "        output_file = f\"{plot_dir}/{histo_base_name}_L{layer}.pdf\"\n",
    "        canvas.SaveAs(output_file)\n",
    "\n"
   ]
  },
  {
   "cell_type": "code",
   "execution_count": null,
   "id": "871880c6",
   "metadata": {},
   "outputs": [],
   "source": []
  },
  {
   "cell_type": "code",
   "execution_count": null,
   "id": "22d93f88",
   "metadata": {},
   "outputs": [],
   "source": []
  },
  {
   "cell_type": "code",
   "execution_count": null,
   "id": "221f6331",
   "metadata": {},
   "outputs": [],
   "source": []
  },
  {
   "cell_type": "code",
   "execution_count": 23,
   "id": "e53c2caa",
   "metadata": {},
   "outputs": [],
   "source": [
    "import ROOT\n",
    "from ROOT import TCanvas, gPad, TFile"
   ]
  },
  {
   "cell_type": "code",
   "execution_count": 6,
   "id": "cd944d9b",
   "metadata": {},
   "outputs": [],
   "source": [
    "with uproot.open(infile) as f:  \n",
    "    h = f[\"ana/hRPhiHits_HECback_polar_L10\"]"
   ]
  },
  {
   "cell_type": "code",
   "execution_count": 24,
   "id": "d1d68a2b",
   "metadata": {},
   "outputs": [],
   "source": [
    "f = TFile.Open(infile)\n",
    "f.cd()\n",
    "h = f.Get(\"ana/hRPhiHits_HECback_polar_L10\")\n",
    "h.SetDirectory(0)"
   ]
  },
  {
   "cell_type": "code",
   "execution_count": 25,
   "id": "d94d80b4",
   "metadata": {},
   "outputs": [],
   "source": [
    "# Function to get bin edges\n",
    "def get_bin_edges(axis):\n",
    "    edges = []\n",
    "    n_bins = axis.GetNbins()\n",
    "    for i in range(1, n_bins + 2):\n",
    "        edges.append(axis.GetBinLowEdge(i))\n",
    "    return edges"
   ]
  },
  {
   "cell_type": "code",
   "execution_count": 26,
   "id": "57316954",
   "metadata": {},
   "outputs": [],
   "source": [
    "# Convert polar coordinates to Cartesian coordinates\n",
    "def polar_to_cartesian(r, theta):\n",
    "    x = r * np.cos(theta)\n",
    "    y = r * np.sin(theta)\n",
    "    return x, y"
   ]
  },
  {
   "cell_type": "code",
   "execution_count": 68,
   "id": "b4724c09",
   "metadata": {},
   "outputs": [],
   "source": [
    "def draw_polar_bin_edges(c, hist):\n",
    "    c.cd()\n",
    "    theta_edges = get_bin_edges(hist.GetXaxis())\n",
    "    print(theta_edges)\n",
    "    r_edges = get_bin_edges(hist.GetYaxis())\n",
    "\n",
    "    print(r_edges)\n",
    "    # Ensure theta_edges are in radians\n",
    "    theta_edges = [theta * np.pi / 180 for theta in theta_edges]\n",
    "\n",
    "    for i in range(len(r_edges) - 1):\n",
    "        for j in range(len(theta_edges) - 1):\n",
    "            r1 = r_edges[i]\n",
    "            r2 = r_edges[i + 1]\n",
    "            theta1 = theta_edges[j]\n",
    "            theta2 = theta_edges[j + 1]\n",
    "\n",
    "            # Draw the radial lines\n",
    "            x1, y1 = polar_to_cartesian(r1, theta1)\n",
    "            x2, y2 = polar_to_cartesian(r2, theta1)\n",
    "            x3, y3 = polar_to_cartesian(r2, theta2)\n",
    "            x4, y4 = polar_to_cartesian(r1, theta2)\n",
    "\n",
    "            radial_line1 = ROOT.TLine(x1, y1, x2, y2)\n",
    "            radial_line1.SetLineColor(ROOT.kRed)\n",
    "            radial_line1.SetLineWidth(1)\n",
    "            radial_line1.Draw(\"L same\")\n",
    "            print(f\"{x1}, {y1}, {x2}, {y2}\")\n",
    "\n",
    "            radial_line2 = ROOT.TLine(x4, y4, x3, y3)\n",
    "            radial_line2.SetLineColor(ROOT.kRed)\n",
    "            radial_line2.SetLineWidth(1)\n",
    "            radial_line2.Draw(\"L same\")\n",
    "\n",
    "            # Draw the arcs\n",
    "            arc1 = ROOT.TArc(0, 0, r1, theta1 * 180 / np.pi, theta2 * 180 / np.pi)\n",
    "            arc1.SetLineColor(ROOT.kRed)\n",
    "            arc1.SetLineWidth(1)\n",
    "            arc1.Draw(\"same\")\n",
    "\n",
    "            arc2 = ROOT.TArc(0, 0, r2, theta1 * 180 / np.pi, theta2 * 180 / np.pi)\n",
    "            arc2.SetLineColor(ROOT.kRed)\n",
    "            arc2.SetLineWidth(1)\n",
    "            arc2.Draw(\"same\")"
   ]
  },
  {
   "cell_type": "code",
   "execution_count": 70,
   "id": "182e5da6",
   "metadata": {},
   "outputs": [],
   "source": [
    "# did not work\n",
    "# c = TCanvas(\"c\",\"c\",800,1200)\n",
    "# c.cd()\n",
    "# gPad.DrawFrame(-50, -50,50, 50);\n",
    "# h.Draw(\"same colz pol\");\n",
    "# draw_polar_bin_edges(c, h)\n",
    "# radial_line1 = ROOT.TLine(33.88413973333118, -35.395834140928045, 34.57565278911345, -36.118198102987805)\n",
    "# radial_line1.SetLineColor(ROOT.kRed)\n",
    "# radial_line1.SetLineWidth(1)\n",
    "# radial_line1.Draw(\"L same\")\n",
    "# c.Update()\n",
    "# c.Draw()\n",
    "# c.SaveAs(\"test.png\")"
   ]
  },
  {
   "cell_type": "code",
   "execution_count": null,
   "id": "4535d6a5",
   "metadata": {},
   "outputs": [],
   "source": []
  },
  {
   "cell_type": "code",
   "execution_count": null,
   "id": "f9c53b6e",
   "metadata": {},
   "outputs": [],
   "source": []
  }
 ],
 "metadata": {
  "kernelspec": {
   "display_name": "Python 3 (ipykernel)",
   "language": "python",
   "name": "python3"
  },
  "language_info": {
   "codemirror_mode": {
    "name": "ipython",
    "version": 3
   },
   "file_extension": ".py",
   "mimetype": "text/x-python",
   "name": "python",
   "nbconvert_exporter": "python",
   "pygments_lexer": "ipython3",
   "version": "3.9.12"
  }
 },
 "nbformat": 4,
 "nbformat_minor": 5
}
